{
 "cells": [
  {
   "cell_type": "code",
   "execution_count": 1,
   "id": "53b9f82c",
   "metadata": {},
   "outputs": [],
   "source": [
    "import pandas as pd\n",
    "import numpy as np\n",
    "import matplotlib.pyplot as plt\n",
    "import seaborn as sns\n",
    "sns.set();\n",
    "\n",
    "from sklearn.model_selection import train_test_split\n",
    "from sklearn.linear_model import LinearRegression\n",
    "from sklearn.metrics import mean_squared_error\n",
    "from sklearn.model_selection import cross_validate\n",
    "from sklearn.preprocessing import PolynomialFeatures, StandardScaler\n",
    "from sklearn.pipeline import Pipeline, FeatureUnion\n",
    "from sklearn.compose import ColumnTransformer"
   ]
  },
  {
   "cell_type": "code",
   "execution_count": 2,
   "id": "fc9397f1",
   "metadata": {},
   "outputs": [],
   "source": [
    "df = pd.read_csv(\"https://raw.githubusercontent.com/katarina74/ml_lessons/main/lesson_2/data/techparams_train.csv\")\n",
    "X = df.drop([\"target\", \"index\"], axis=1)\n",
    "y = df[[\"target\"]]"
   ]
  },
  {
   "cell_type": "code",
   "execution_count": 3,
   "id": "f6da92af",
   "metadata": {},
   "outputs": [],
   "source": [
    "poly_features = PolynomialFeatures(degree=2, include_bias = False)\n",
    "X_poly = poly_features.fit_transform(X)"
   ]
  },
  {
   "cell_type": "code",
   "execution_count": 4,
   "id": "94d0652a",
   "metadata": {},
   "outputs": [],
   "source": [
    "poly_train_X, poly_test_X, train_y, test_y = train_test_split(X_poly, y, test_size=0.33, random_state=42)"
   ]
  },
  {
   "cell_type": "code",
   "execution_count": 5,
   "id": "3e21b7f0",
   "metadata": {},
   "outputs": [],
   "source": [
    "import shap\n",
    "from sklearn.feature_selection import SelectFromModel"
   ]
  },
  {
   "cell_type": "code",
   "execution_count": 6,
   "id": "c9f35a1f",
   "metadata": {},
   "outputs": [],
   "source": [
    "reg = LinearRegression().fit(poly_train_X, train_y)"
   ]
  },
  {
   "cell_type": "code",
   "execution_count": 7,
   "id": "92b2c29a",
   "metadata": {},
   "outputs": [],
   "source": [
    "shap_values = shap.LinearExplainer(reg, poly_train_X).shap_values(poly_train_X)\n",
    "mean_shap = np.mean(np.abs(shap_values), axis=1)\n",
    "thr = np.mean(mean_shap)\n",
    "feature_selector = SelectFromModel(reg, threshold=thr, prefit=True)\n",
    "selected_X = feature_selector.transform(poly_train_X)"
   ]
  },
  {
   "cell_type": "code",
   "execution_count": 8,
   "id": "79a61583",
   "metadata": {},
   "outputs": [],
   "source": [
    "select = LinearRegression().fit(selected_X, train_y)"
   ]
  },
  {
   "cell_type": "code",
   "execution_count": 9,
   "id": "4a8725a8",
   "metadata": {},
   "outputs": [],
   "source": [
    "selected_test_X = feature_selector.transform(poly_test_X)"
   ]
  },
  {
   "cell_type": "code",
   "execution_count": 10,
   "id": "1a29877b",
   "metadata": {},
   "outputs": [
    {
     "data": {
      "text/plain": [
       "array([[2423.35576443],\n",
       "       [2710.97452595],\n",
       "       [2632.1665972 ],\n",
       "       ...,\n",
       "       [2507.3112144 ],\n",
       "       [2577.73029322],\n",
       "       [2483.66724875]])"
      ]
     },
     "execution_count": 10,
     "metadata": {},
     "output_type": "execute_result"
    }
   ],
   "source": [
    "pred = select.predict(selected_test_X)\n",
    "pred"
   ]
  },
  {
   "cell_type": "code",
   "execution_count": 11,
   "id": "53261b74",
   "metadata": {},
   "outputs": [
    {
     "name": "stdout",
     "output_type": "stream",
     "text": [
      "0.40041227284257286\n",
      "\n",
      "34741.63834062006\n"
     ]
    }
   ],
   "source": [
    "score = select.score(selected_test_X, test_y)\n",
    "mse = mean_squared_error(test_y, pred)\n",
    "print(score)\n",
    "print()\n",
    "print(mse)"
   ]
  },
  {
   "cell_type": "code",
   "execution_count": 12,
   "id": "519fc33c",
   "metadata": {},
   "outputs": [],
   "source": [
    "#показатели модели без полиномиальных признаков и отбора\n",
    "train_X, test_X, train_y, test_y = train_test_split(X, y, test_size=0.33, random_state=42)"
   ]
  },
  {
   "cell_type": "code",
   "execution_count": 13,
   "id": "3a89a0ee",
   "metadata": {},
   "outputs": [],
   "source": [
    "reg = LinearRegression().fit(train_X, train_y)"
   ]
  },
  {
   "cell_type": "code",
   "execution_count": 14,
   "id": "a3df2d5e",
   "metadata": {},
   "outputs": [
    {
     "data": {
      "text/plain": [
       "array([[2357.32561418],\n",
       "       [2671.44254732],\n",
       "       [2594.490395  ],\n",
       "       ...,\n",
       "       [2496.45737597],\n",
       "       [2558.81232783],\n",
       "       [2490.53244122]])"
      ]
     },
     "execution_count": 14,
     "metadata": {},
     "output_type": "execute_result"
    }
   ],
   "source": [
    "pred = reg.predict(test_X)\n",
    "pred"
   ]
  },
  {
   "cell_type": "code",
   "execution_count": 15,
   "id": "86ac680a",
   "metadata": {},
   "outputs": [
    {
     "name": "stdout",
     "output_type": "stream",
     "text": [
      "0.46471537322321455\n",
      "\n",
      "31015.7531091195\n"
     ]
    }
   ],
   "source": [
    "score = reg.score(test_X, test_y)\n",
    "mse = mean_squared_error(test_y, pred)\n",
    "print(score)\n",
    "print()\n",
    "print(mse)"
   ]
  },
  {
   "cell_type": "code",
   "execution_count": null,
   "id": "2f6a2ef2",
   "metadata": {},
   "outputs": [],
   "source": []
  }
 ],
 "metadata": {
  "kernelspec": {
   "display_name": "Python 3 (ipykernel)",
   "language": "python",
   "name": "python3"
  },
  "language_info": {
   "codemirror_mode": {
    "name": "ipython",
    "version": 3
   },
   "file_extension": ".py",
   "mimetype": "text/x-python",
   "name": "python",
   "nbconvert_exporter": "python",
   "pygments_lexer": "ipython3",
   "version": "3.9.13"
  }
 },
 "nbformat": 4,
 "nbformat_minor": 5
}
